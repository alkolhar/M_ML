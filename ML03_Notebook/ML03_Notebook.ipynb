{
 "cells": [
  {
   "cell_type": "code",
   "execution_count": null,
   "metadata": {},
   "outputs": [],
   "source": []
  },
  {
   "cell_type": "markdown",
   "metadata": {},
   "source": [
    "# Daten-Vorverarbeitung und Visualisierung\n",
    "## Aufgabe 1\n",
    "Der Datensatz pima-indians-diabetes.csv beinhaltet medizinische Indikatoren, die bei 768 Patientinnen des indigenen Pima-Stammes (Phoenix, AZ) erfasst wurden. Die Probandinnen waren zwischen 21 und 81 Jahre alt.\n",
    "Folgende Merkamale wurden erfassst:\n",
    "- `NumTimesPrg` (-) Anzahl Schwnagerschaften\n",
    "- `PlGlcConc` [mg/dl] Blutzucker 2h nach oraler Aufnahme von Zucker (oGTT)\n",
    "- `BloodP` [mmHg] Diastolischer Blutdruck\n",
    "- `SkinThick` [mm] Dicke der Hautfalte am Trizeps\n",
    "- `TwoHourSerIns` [yIU/mg] Insulinkonzentration nach 2 oGTT\n",
    "- `BMI` [kg/m^2] Body Mass Index\n",
    "- `DiPedFunc` [-] Erbliche Vorbelastung\n",
    "- `Age` [JAhren] Alter\n",
    "- `HasDiabetes` [-] Diagnose Diabetes Typ II"
   ]
  },
  {
   "cell_type": "markdown",
   "metadata": {},
   "source": [
    "### Teilaufgabe a)\n",
    "Laden des Datensatzes und erzeugen eines Panda DataFrames."
   ]
  },
  {
   "cell_type": "code",
   "execution_count": null,
   "metadata": {},
   "outputs": [],
   "source": [
    "import pandas as pd\n",
    "pima_data = pd.read_csv('data/pima-indians-diabetes.csv');\n",
    "pima_data.columns = ['NumTimesPrg', 'PlGlcConc', 'BloodP', 'SkinThick', 'TwoHourSerIns', 'BMI', 'DiPedFunc', 'Age', 'HasDiabetes'];\n",
    "pima_data.shape\n"
   ]
  },
  {
   "cell_type": "markdown",
   "metadata": {},
   "source": [
    "### Teilaufgabe b)\n",
    "Welcher Prozentsatz der untersuchten Personen ist an Diabetes erkrankt?"
   ]
  },
  {
   "cell_type": "code",
   "execution_count": null,
   "metadata": {},
   "outputs": [],
   "source": [
    "pima_data['HasDiabetes'].values.sum() / pima_data.shape[0] * 100"
   ]
  },
  {
   "cell_type": "markdown",
   "metadata": {},
   "source": [
    "### Teilaufgabe c)\n",
    "Gibt es in dem Datensatz fehlende Werte? Falls ja, behandeln Sie diese in geeigneter Art und Weise."
   ]
  },
  {
   "cell_type": "code",
   "execution_count": null,
   "metadata": {},
   "outputs": [],
   "source": [
    "pima_data.isna().any().any() #liefert False -> keine fehlende Werte\n"
   ]
  },
  {
   "cell_type": "markdown",
   "metadata": {},
   "source": [
    "### Teilaufgabe d)\n",
    "Erzeugen Sie aus der Variable `NumTimesPrg` eine qualitative (ordinale) Variable mit den Klassen \"keine Schwangerschaft\", \"1-5 Schwangerschaften\" bzw. \"mehr als 6 Schwangerschaften\". Kodieren Sie diese Variable auf zwei verschiedene Arten."
   ]
  },
  {
   "cell_type": "code",
   "execution_count": null,
   "metadata": {},
   "outputs": [],
   "source": [
    "pima_noPrg = pima_data[pima_data['NumTimesPrg'] == 0]\n",
    "pima_PrgLT5 = pima_data[pima_data['NumTimesPrg'] > 0]\n",
    "pima_PrgLT5 = pima_PrgLT5[pima_PrgLT5['NumTimesPrg'] < 6]\n",
    "pima_PrgGT5 = pima_data[pima_data['NumTimesPrg'] > 5]\n",
    "\n",
    "pima_PrgLT5.head()\n"
   ]
  }
 ],
 "metadata": {
  "interpreter": {
   "hash": "8f3534bf38f6eb11e1d3b789516db8aa7f2ed37cd4c44f5fa27561125344489f"
  },
  "kernelspec": {
   "display_name": "Python 3.8.8 64-bit ('base': conda)",
   "name": "python3"
  },
  "language_info": {
   "codemirror_mode": {
    "name": "ipython",
    "version": 3
   },
   "file_extension": ".py",
   "mimetype": "text/x-python",
   "name": "python",
   "nbconvert_exporter": "python",
   "pygments_lexer": "ipython3",
   "version": "3.8.8"
  },
  "orig_nbformat": 4
 },
 "nbformat": 4,
 "nbformat_minor": 2
}
