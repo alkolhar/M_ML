{
 "cells": [
  {
   "cell_type": "markdown",
   "source": [
    "<img src=\"Bilder/ost_logo.png\" width=\"240\" height=\"240\" align=\"right\"/>\r\n",
    "<div style=\"text-align: left\"> <b> Machine Learning </b> <br> FS 2021 <br> <a href=\"mailto:klaus.frick@ost.ch\"> Klaus Frick </a> und <a href=\"mailto:christoph.wuersch@ost.ch\"> Christoph Würsch </a> </div>"
   ],
   "metadata": {}
  },
  {
   "cell_type": "markdown",
   "source": [
    "# Lektion 1\r\n",
    "\r\n",
    "In dieser Lektion erleben Sie vielleicht Ihren ersten Kontakt mit der spannenden Welt des maschinellen Lernens. Sie lernen die verschiedenen Arten von Machine Learning kennen und können anhand konkreter Beispiele die breite Anwendungsmöglichkeiten dieser Technik beurteilen. Eine sinnvolle Beschäftigung mit Machine Learning geht aber über graue Theorie hinaus und bedeutet immer **praktisches Arbeiten mit Daten und Algorithmen**. Wir werden in diesem Kurs dies mithilfe der Programmiersprache `Python` bewerkstelligen. In dieser Lektion lernen Sie die Grundzüge der Sprache kennen und tauchen ein in die Welt der Datenanalyse mit Python. "
   ],
   "metadata": {}
  },
  {
   "cell_type": "markdown",
   "source": [
    "## Einführung in Python\r\n",
    "\r\n",
    "Die Programmiersprache Python wurde Ende der 80er Jahre von Guido van Rossum (Universität Amsterdam) ursprünglich für die Lehre entwickelt. Unter anderem aus diesem Grund zeichnet sich Python durch einen gut lesbaren Programmcode und eine intuitive Bedienung aus. Es handelt sich grundsätzlich um eine interpretierte Programiersprache, bei der Programmcode Zeile für Zeile von einem *interpreter* gelesen und ausgeführt wird. Dies steht z.B. im Gegensatz zu kompilierten Sprachen wie C/C++, die von einem *compiler* erst in Maschinencode übersetzt werden müssen. Python ist sehr vielseitig und *open source*, d.h. die Sprache kann von jedermann weiterentwickelt werden und der Quellcode steht offen.  \r\n",
    "\r\n",
    "Die Grundversion von Python (auf den Klassenzimmer PCs ist Python 3.6 installiert) beinhaltet lediglich die grundlegendsten Merkmale einer Programmiersprache. Es gibt z.B. nur einen sehr rudimentären Datentyp für Matrizen/Arrays im Kernmodul von Python (s. später). Die Stärke der Sprache zeigt sich vor allem durch die zahlreichen (hervorragenden) Packages, die es zu unterschiedlichen Themenbereichen gibt. Für die Data Science Community sind dies insbesondere folgende Pakete\r\n",
    "\r\n",
    "1. **NumPy** Dieses Paket bietet Funktionalitäten um effizient mit Vektoren, Matrizen und allgemein `ndarrays` umzugehen.\r\n",
    "2. **SciPy** bietet zahlreiche Werkzeuge für wissenschaftliches Rechnen.\r\n",
    "3. **Pandas** stellt das `DataFrame` Objekt zur Verfügung (eine Art abstrakte Excel Tabelle).\r\n",
    "4. **Matplotlb** bietet flexible Möglichkeiten zur Datenvisualisierung.\r\n",
    "5. **Scikit-learn** ist eine mächtige Bibliothek von machine learning Algorithmen und Data Analytics Methoden im Allgemeinen (Preprocessing, Dimensionsreduktion, ...)\r\n",
    "\r\n",
    "Diese Pakete bilden die Basis des *PyData Stacks*, einer ständig wachsenden Familie von Paketen im Umfeld von *Data Science*. \r\n",
    "\r\n",
    "<img src=\"Bilder/pydatastack.jpg\" width=\"700\" align=\"center\"/>\r\n",
    "\r\n",
    "Wir werden den Einstieg in den PyData Stack über das Paket `pandas` machen und die low-level Matrix-Bibliothek `numpy` (das Zentralmassiv wissenschaftlichen Rechnens mit Python) vorerst als gegeben annehmen und nur von Fall zu Fall genauer betrachten.\r\n",
    "\r\n",
    "Die Python Community ist gross und in den letzten Jahren stark gewachsen, sodass *crowd support* in grossem Stil vorliegt.  Python kann sehr gut mit C/C++ (Cython) oder Java (Jython) kombiniert werden und mit microPython liegt ein Python-interpreter für Microkontroller vor. Ausserdem: das **PI** in Raspberry-PI steht nicht umsonst für **P**ython **I**nterpreter. \r\n",
    "\r\n",
    "Python Tutorials und einführende Bücher gibt es wie Sand am Meer. Ich empfehle hier zwei Quellen (aus völlig subjektiver Gründen):\r\n",
    "\r\n",
    "- Intro to Python for Data Science (Video Tutorials) \r\n",
    "https://www.datacamp.com/courses/intro-to-python-for-data-science\r\n",
    "- Jake VanderPlas *A Whirlwind Tour of Python* https://github.com/jakevdp/WhirlwindTourOfPython\r\n",
    "\r\n",
    "Die Data Science community hat in den letzten Jahren Python immer mehr für sich entdeckt. Ein schönes Buch dazu ist ein treuer Begleiter von uns durch diesen Kurs:\r\n",
    "\r\n",
    "- Jake VanderPlas *Python Data Science Handbook* https://jakevdp.github.io/PythonDataScienceHandbook/\r\n",
    "\r\n",
    "Diese Quelle verwenden wir im Unterricht inflationär und für diese Lektion sollten Sie sich insbesondere Kapitel 3 des Buchs zu Gemüte führen. Sie finden das Kapitel als .pdf auf der Moodle-Plattform."
   ],
   "metadata": {}
  },
  {
   "cell_type": "markdown",
   "source": [
    "## IPython\r\n",
    "\r\n",
    "Als Programmiersprache im Sinne der Softwareentwicklung wird Python typischerweise in einer geeigneten Umgebung (IDLE, Spyder, PyCharm, Eclipse,...) entwickelt. Wir fokussieren uns aber eher auf *hacking* als auf Softwareentwicklung, sodass eine interaktive Bedienung von Python ähnlich wie in Matlab von Vorteil wäre. IPython (*Interactive Python*) bietet hier die Lösung. Wenn Sie auf Ihrem (Windows) PC Anaconda installiert haben und in der Suchleiste `IPython` eintippen bzw. dies bei unseren Klassenzimmer PCs tun, so öffnet sich eine Konsole und ein blinkender Cursor harrt Ihrer Eingabe. Dies ist die IPython Konsole und Sie können durch eintippen von Python Befehlen sequenziell Berechnungen ausführen. Im Bild unten ergibt die Eingabe `1+1` glücklicherweise `2`.\r\n",
    "\r\n",
    "<img src=\"Bilder/IPythonConsole.png\" width=\"700\" align=\"center\"/>\r\n",
    "\r\n",
    "Im typischen Data Mining/Statistik Projekten wollen Sie die Resultate und Plots Ihrer Analysen präsentieren und mit Kollegen, Kunden oder Vorgesetzten diskutieren. Dazu lässt sich IPython in Browser-basierte Notebooks einbetten, in denen neben dem ausführbaren (!) Code auch Kommentare, Formeln und Bilder gesetzt werden. Das Dokument, das Sie geraden lesen, ist so ein sogenanntes Jupyter Notebook. Bevor Sie ein Jupyter Notebook erstellen oder ein editieren können, müssen Sie im Windows Command Prompt `jupyter notebook` ausführen. \r\n",
    "\r\n",
    "Den Code in dem folgenden grauen Kasten können Sie ausführen, indem Sie hineinklicken und `Strg + Enter` drücken."
   ],
   "metadata": {}
  },
  {
   "cell_type": "code",
   "execution_count": null,
   "source": [
    "1+2"
   ],
   "outputs": [],
   "metadata": {}
  },
  {
   "cell_type": "markdown",
   "source": [
    "Natürlich kann Python viel mehr, als einen Taschenrechner zu simulieren. Von einfacher Variablenzuweisung und dem ausführen von Scripten über die Definition von Funktionen bis hin zu objektorientierter Programmierung mit Klassen: Python bietet eine Vielzahl an Möglichkeiten. Wir konzentrieren uns hier auf die Funktionalitäten für Data Science. "
   ],
   "metadata": {}
  },
  {
   "cell_type": "code",
   "execution_count": null,
   "source": [
    "# eine Variablenzuweisung\r\n",
    "a = 1\r\n",
    "2*a + 3"
   ],
   "outputs": [],
   "metadata": {}
  },
  {
   "cell_type": "markdown",
   "source": [
    "Bevor wir jetzt mit Numpy und Co. starten soll hier noch einer der grossen Vorteile von IPython gegenüber einer herkömmlichen Python Programmierung erwähnt werden: Zugang zu Hilfe und Quellcode. Sie können eine Kontexthilfe zu jedem Python Objekt (Funktionen, Klassen, etc.) bekommen, indem Sie `?` an den Befehl hängen. "
   ],
   "metadata": {}
  },
  {
   "cell_type": "code",
   "execution_count": null,
   "source": [
    "len?"
   ],
   "outputs": [],
   "metadata": {}
  },
  {
   "cell_type": "markdown",
   "source": [
    "Ausserdem bietet IPython Code Vervollständigung mit `<TAB>`. "
   ],
   "metadata": {}
  },
  {
   "cell_type": "markdown",
   "source": [
    "## Daten darstellen mit Python\r\n",
    "\r\n",
    "Wir haben festgestellt, dass eine Datenmatrix eine ideale Struktur darstellt, um Daten für weiterführende Analysen (Machine Learning & Co) aufzubereiten (*tidy data*). Wir lernen hier, wie dies in Python gemacht werden kann. Die Datenstrukturen, die im Basispaket von Python definiert sind, sind für (grosse) Datenmengen nicht geeignet. Pandas (**Pan**el **Da**ta) ist das Paket der Wahl, wenn grosse Datenmengen mit Python eingelesen, vorverarbeitet und visualisiert werden sollen. Das Paket baut auf der mächtigen Numpy Bibliothek auf, die wir aber vorerst als gegeben betrachten wollen und nicht genauer studieren werden. Falls wir spezielle Numpy-Befehle benötigen sollten, so werden wir von Fall zu Fall darauf eingehen. \r\n",
    "\r\n",
    "### Native Python Datenstrukuren\r\n",
    "\r\n",
    "Wie oben erwähnt, verfügt der Python-Kern bereits über Datencontainer, die zwar etwas unpraktisch für Machine Learning sind, aber dennoch nicht unerwähnt bleiben sollen. \r\n",
    "\r\n",
    "- **Listen** sind die Hauptdatenstruktur im Python Basispaket. Man kann sich unter Listen ein `array` vorstellen (wie z.B. in Java), nur das Listen unterschiedlichen Objekttypen beinhalten können (Zahlen, Strings, Boole'sche Variablen, ...). Listen werden in Python mit eckigen Klammern eingegeben; die einzelnen Elemente in der Liste werden durch ein Komma getrennt. Eine Datenmatrix, wie wir sie im Machine Learning benötigen, könnten z.B. als Liste von Listen realisiert werden, wobei die einzelnen Listeneinträge die Spalten der Datenmatrix wären. Dies ist aber sehr umständlich und in der Praxis irrelevant. "
   ],
   "metadata": {}
  },
  {
   "cell_type": "code",
   "execution_count": null,
   "source": [
    "myList = [\"Hello\", 4.5, 2, True]\r\n",
    "print(myList)\r\n",
    "print(\" \")\r\n",
    "\r\n",
    "myDataMatrix = [[\"Hans\", \"Betty\"], [34, 23], [175.6, 167.6]]\r\n",
    "print(myDataMatrix)"
   ],
   "outputs": [],
   "metadata": {}
  },
  {
   "cell_type": "markdown",
   "source": [
    "- **Dictionaries** sind Datencontainer, die aus key-value Paaren bestehen. Der *key* beschreibt den Namen des Eintrags und der zugehörige *value* den Wert. Die Paare werden mit der Syntax\r\n",
    "\r\n",
    "    'key-name': value\r\n",
    "    \r\n",
    "    eingegeben. Mehrere Paare werden durch ein Komma getrennt und alles zusammen in geschwungene Klammern gesetzt. Ein dictionary entspricht dem json-Datentyp, lässt sich also einfach als json-File speichern. Folgendes Beispiel zeigt, wie eine Datenmatrix (2 Elemente und 3 Merkmale) mit einem dictionary angelegt werden könnte.  "
   ],
   "metadata": {}
  },
  {
   "cell_type": "code",
   "execution_count": null,
   "source": [
    "myDict = {'Name': [\"Hans\", \"Betty\"], 'Alter': [34, 23], 'Groesse': [175.6, 167.6]}\r\n",
    "print(myDict)\r\n",
    "myDict.keys()"
   ],
   "outputs": [],
   "metadata": {}
  },
  {
   "cell_type": "markdown",
   "source": [
    "Beide der oben genannten Datenstrukuren haben in der Praxis grosse Bedeutung; im Maschinellen Lernen eignen sie sich aber nur bedingt, um Datenmatrizen darzustellen. Der Grund liegt hauptsächlich in der ineffizienten Datenablage intern, die von der grossen Freiheit der Verwendung von Listen bzw. Dictionaries herrührt. Wir werden nun lernen, wie die Pandas Bibliothek dieses Problem mit der Datenstruktur `DataFrame` sehr elegant löst."
   ],
   "metadata": {}
  },
  {
   "cell_type": "markdown",
   "source": [
    "## Pandas\r\n",
    "\r\n",
    "Wer sich mit Data Science und Statistik ernsthaft auseinandersetzt, der wird feststellen, dass Daten in einer grossen Bandbreite an verschiedenen Typen vorkommen: Bilder, Soundfiles, Dokumente, Sensordaten, Zeitreihen, etc. Nach angestrengtem Hinsehen, lassen sich diese Datentypen alle als mehrdimensionale Arrays darstellen. Dies ist immer der erste Schritt in jeder Analyse. Bei gesampelten Soundfiles (1 dimensionales Array) und digitalen Bildern (2 dimensionales Array) ist das offensichtlich. Für Textdokumente müssen typischerweise erst geeignet Merkmale kodiert werden (Wortanzahl, Anzahl Sonderzeichen, Verteilung der Zahl direkt aufeinanderfolgender Grossbuchstaben, etc.). Schlussendlich ziehlt man auf eine Datenstruktur in der dritten Normalform (*tidy data*) ab, wie wir es in der Vorlesung gelernt haben.  \r\n",
    "\r\n",
    "Die Bibliothek `Pandas` baut auf `Numpy` auf und stellt die Struktur des `DataFrame` zur Verfügung (nachempfunden der gleichnamigen Struktur in `R`). Man kann sich darunter am besten ein zweidimensionales Array vorstellen, das in zweierlei Hinsicht speziell an die Bedürfnisse von Data Science angepasst wurde:\r\n",
    "\r\n",
    "1. Ein `DataFrame` kann als 2 dimensionales Array betrachtet werden, das von Spalte zu Spalte den Datentyp ändern kann (Integer, String, ...)\r\n",
    "2. Sowohl die Spalten- als auch die Zeilenindizierung kann frei gewählt werden (Spalten- und Zeilennamen)\r\n",
    "\r\n",
    "Man kann sich auch eine abstrakte Excel-Tabelle denken und Pandas bietet eine grose Bandbreite zur Modifikation und Verarbeitung dieser Tabellen (SQL-artige abfragen, I/O Routinen z.B. für .csv und .xls Dateien etc.) In der Sprache der Statistik bilden die einzelnen __Spalten__ des `DataFrame` die __Merkmale__ und die einzelnen Werte pro __Zeile__ die __Merkmalsausprägungen__. Ein `DataFrame` entspricht also genau unserer Definition von *tidy data*.\r\n",
    "\r\n",
    "Wir importieren zunächst das `Pandas` Paket und nennen es um in `pd`. Wir schauen uns auch gleich die Versionsnummer des Pakets an."
   ],
   "metadata": {}
  },
  {
   "cell_type": "code",
   "execution_count": null,
   "source": [
    "import pandas as pd\r\n",
    "pd.__version__"
   ],
   "outputs": [],
   "metadata": {}
  },
  {
   "cell_type": "markdown",
   "source": [
    "Das Paket bietet insgesamt drei fundamentale Datenstrukturen, die zur Verarbeitung von Daten verwendet werden können:\r\n",
    "\r\n",
    "- `Series`: Dabei handelt es sich um ein eindimensionales Array von Daten. Im Gegensatz zu einem herkömmlichen Array (wie z.B. in `Numpy`) sind bei  einem `Series` Objekt allerdings die Einträge *indiziert*.   \r\n",
    "- `DataFrame`: Wie oben beschrieben, ist ein `DataFrame` eine Verallgemeinerung eines zweidimensionales Arrays. Konkret besteht es aus zusammengehörigen `Series` Objekten, d.h. zusammengehörigen Elemente in den einzelnen `Series` Objekte habe den gleichen Index.  \r\n",
    "- `Index`: Es handelt sich im Wesentlichen um ein unveränderbares eindimensionales Array.\r\n",
    "\r\n",
    "\r\n",
    "### Series\r\n",
    "\r\n",
    "Wir erzeugen zuerst ein Series Objekt aus einer einfachen Python Liste. Wir nehmen an, dass es sich um das Alter 4 fiktiver Personen handelt."
   ],
   "metadata": {}
  },
  {
   "cell_type": "code",
   "execution_count": null,
   "source": [
    "age = pd.Series([25, 31, 49, 17])\r\n",
    "age"
   ],
   "outputs": [],
   "metadata": {}
  },
  {
   "cell_type": "markdown",
   "source": [
    "Wie hier ersichtlich wird, hat das `Series` Objekt sowohl Werte als auch Indizes (von `0` bis `3`). Auf die Daten und die Indizes kann mit `.values` und `.index` extra zugegriffen werden. "
   ],
   "metadata": {}
  },
  {
   "cell_type": "code",
   "execution_count": null,
   "source": [
    "age.values"
   ],
   "outputs": [],
   "metadata": {}
  },
  {
   "cell_type": "code",
   "execution_count": null,
   "source": [
    "age.index"
   ],
   "outputs": [],
   "metadata": {}
  },
  {
   "cell_type": "markdown",
   "source": [
    "Es kann auf die einzelnen Werte auch direkt mittels Index in eckiger Klammer zugegriffen werden."
   ],
   "metadata": {}
  },
  {
   "cell_type": "code",
   "execution_count": null,
   "source": [
    "age[3]"
   ],
   "outputs": [],
   "metadata": {}
  },
  {
   "cell_type": "markdown",
   "source": [
    "Das schöne an `Series` Objekten (und später auch bei `DataFrames`) ist jedoch, dass sich viel allgemeinere Indizes definieren lassen. Z.B. könnten wir die Namen der Personen als Index verwenden."
   ],
   "metadata": {}
  },
  {
   "cell_type": "code",
   "execution_count": null,
   "source": [
    "age = pd.Series([25, 31, 49, 17], index=['Paul', 'Sophie', 'Sepp', 'Petra'])\r\n",
    "age"
   ],
   "outputs": [],
   "metadata": {}
  },
  {
   "cell_type": "markdown",
   "source": [
    "Auf die Einträge kann jetzt über die neuen Indizes zugegriffen werden. Hier ein Breispiel"
   ],
   "metadata": {}
  },
  {
   "cell_type": "code",
   "execution_count": null,
   "source": [
    "age['Sophie':'Petra']"
   ],
   "outputs": [],
   "metadata": {}
  },
  {
   "cell_type": "markdown",
   "source": [
    "### Data Frames\r\n",
    "\r\n",
    "Ein `DataFrame` Objekt kann (u.a.) aus mehreren `Series` Objekten konstruiert werden. Wir definierne noch eine weiteres solches `Series`-Objekt und fügen es dann zu einem `DataFrame` zusammen. Dies geschieht über ein Dictionary."
   ],
   "metadata": {}
  },
  {
   "cell_type": "code",
   "execution_count": null,
   "source": [
    "nationality = pd.Series(['Swiss', 'Austrian', 'Swiss', 'Swiss'], index=['Paul', 'Sophie', 'Sepp', 'Petra'])\r\n",
    "demo_data = pd.DataFrame({'Alter': age, 'Nationalität': nationality})\r\n",
    "demo_data"
   ],
   "outputs": [],
   "metadata": {}
  },
  {
   "cell_type": "markdown",
   "source": [
    "Es ist entscheidend, dass die verwendeten `Series`-Objekte die gleiche Anzahl von Elementen besitzen. Dies ist z.B. bei dictionaries nicht nötig, weshalb diese Objekte für Machine Learning & Co zu allgemein sein. Falls ein Dictionary jedoch die korrekte Strukur hat, kann daraus leicht ein `DataFrame` erzeugt werden. Wir zeigen dies, an unserem Beispiel-Dictionary von oben."
   ],
   "metadata": {}
  },
  {
   "cell_type": "code",
   "execution_count": null,
   "source": [
    "demo_data.groupby('Nationalität').get_group('Swiss')"
   ],
   "outputs": [],
   "metadata": {}
  },
  {
   "cell_type": "code",
   "execution_count": null,
   "source": [
    "df = pd.DataFrame(myDict)\r\n",
    "df"
   ],
   "outputs": [],
   "metadata": {}
  },
  {
   "cell_type": "markdown",
   "source": [
    "Das Eingeben von Data Frames per Hand ist mühsam und spielt auch in der Praxis eine untergeordnete Rolle. Die Funktion `pd.read_csv(filename)` liest ein .csv File und verwendet die Bezeichnungen im Header (1. Zeile) als Bezeichner für die Spalten. Wir werden dazu den Datensatz `gapminder.csv` verwenden. Er stammt von dem Gapminder Projekt des schwedischen Wissenschaftlers Hans Roslin (1948-2017).\r\n",
    "\r\n",
    "https://www.gapminder.org/\r\n",
    "\r\n",
    "In dem Projekt wurden über 500 demographische Merkmale aus jedem Land der Erde aus den letzten Jahrzehnten gesammelt. Wir betrachten einen kleinen Ausschnitt davon:\r\n",
    "\r\n",
    "- `Country`: Land\r\n",
    "- `year`: Jahr der Datenerfassung\r\n",
    "- `fertility`: Anzahl der Geburten pro Frau\r\n",
    "- `life`: Durchschnittliche Lebenserwartung\r\n",
    "- `population`: Bevölkerungszahl\r\n",
    "- `child_mortality`: Kindersterblichkeit\r\n",
    "- `gdp`: Durchschnittliches Pro-Kopf-Einkommen in Dollar\r\n",
    "- `region`: Kontinent\r\n",
    "\r\n",
    "Der Datensatz kann mittels des `read_csv` Befehls eingelesen werden. "
   ],
   "metadata": {}
  },
  {
   "cell_type": "code",
   "execution_count": null,
   "source": [
    "GM = pd.read_csv(\"Data/gapminder.csv\")\r\n",
    "GM.head()"
   ],
   "outputs": [],
   "metadata": {}
  },
  {
   "cell_type": "markdown",
   "source": [
    "Der Befehl `head(n)` gibt die ersten n Zeilen des Datensatzes aus (default: n=5). Wir sehen z.B., dass Python die Standardindizierung (beginnend mit 0) benutzt. Später werden wir die Indizierung noch etwas sinnvoller gestalten. \r\n",
    "\r\n",
    "Bereits bei diesem einfachen Befehl wird ein Grundprinzip der Python-Sprache bereits sehr offensichtlich: **Objektorientierung**. Konkret bedeutet dies, dass `GM` nicht einfach nur eine Tabelle ist, sondern eine Klasse mit zahlreichen *Methoden*. Diese Methoden sind Funktionen, die sich auf das Datenfeld in `GM` beziehen. Beispielsweise macht der Befehl\r\n",
    "\r\n",
    "`GM.head()`\r\n",
    "\r\n",
    "nichts anderes, als in seinem eigenen Datenfeld die ersten 5 Zeilen zu holen und (ansprechend) auszugeben. Es gibt extrem viele Methoden in der `DataFrame`-Klasse, die zur Zusammenfassung, Beschreibung, Transformation und Visualisierung der Daten genutzt werden können. Wir werden nach und nach einige dieser Funktionen kennenlernen. \r\n",
    "\r\n",
    "Meistens beginnt man damit, die Grösse des Datenframes auszugeben. Dies geschieht mit dem Aufruf `shape`. Es handelt sich dabei nicht um eine Methode, sondern um ein Datenfeld (2-Tuple), weshalb keine Klammern gesetzt werden."
   ],
   "metadata": {}
  },
  {
   "cell_type": "code",
   "execution_count": null,
   "source": [
    "GM.shape"
   ],
   "outputs": [],
   "metadata": {}
  },
  {
   "cell_type": "markdown",
   "source": [
    "Wir haben also 10111 Elemente in unserer Stichprobe und 8 Merkmale. Sehr praktisch ist der `.describe()` Befehl, der eine Zusammenfassung der quantitativen Merkmale im Datensatz gibt (beim Merkmal `Year` macht dies ev. wenig Sinn):"
   ],
   "metadata": {}
  },
  {
   "cell_type": "code",
   "execution_count": null,
   "source": [
    "GM.describe()"
   ],
   "outputs": [],
   "metadata": {}
  },
  {
   "cell_type": "markdown",
   "source": [
    "### Auswahl von Elementen\r\n",
    "\r\n",
    "Die Indizierung von `DataFrame` Objekten ist sehr viellseitig und eine komplete Ausführung würde hier den Rahmen sprengen. Wir verweisen dafür auf Kapitel 3 im Buch von Jake VanderPlas *Python für Data Science*. Hier seien die grundlegenden Verfahren beschrieben. Die Indizierung kann analog zu einem `Numpy`-Array erfolgen. Hier ist zu beachten, dass der letzte Index *nicht* mehr ausgegeben wird, wie folgendes Beispiel eines *slices* zeigt:"
   ],
   "metadata": {}
  },
  {
   "cell_type": "code",
   "execution_count": null,
   "source": [
    "GM[20:24]"
   ],
   "outputs": [],
   "metadata": {}
  },
  {
   "cell_type": "markdown",
   "source": [
    "Der `DataFrame` im obigen Beispiel hat eine etwas eigentümliche Struktur im Sinne des Maschinellen Lernens. Die Ausprägungen des Merkmals `Country` sind streckenweise konstant, wobei jeweils Werte in verschiedenen Jahren angegeben werden. Rein formal entspricht der Datensatz so der gewünschten Form von *tidy data*, aber eigentlich sind `Country` und `Year` keine Merkmale, sondern *Indizes*. \r\n",
    "\r\n",
    "Wir machen dies deutlich, in dem wir zunächst die Daten eines Jahres auswählen. Dies kann einerseits über *logische* Bedingungen erfolgen. "
   ],
   "metadata": {}
  },
  {
   "cell_type": "code",
   "execution_count": null,
   "source": [
    "GM_1980 = GM[GM['Year']==1980]\r\n",
    "GM_1980.head()"
   ],
   "outputs": [],
   "metadata": {}
  },
  {
   "cell_type": "markdown",
   "source": [
    "Klarerweise ist jetzt das Merkmal `Year` überflüssig. Wir entfernen die Spalte mit `drop`"
   ],
   "metadata": {}
  },
  {
   "cell_type": "code",
   "execution_count": null,
   "source": [
    "GM_1980 = GM_1980.drop('Year', axis=1)\r\n",
    "GM_1980.describe()"
   ],
   "outputs": [],
   "metadata": {}
  },
  {
   "cell_type": "markdown",
   "source": [
    "Der Name des Landes ist eher ein Index als ein Merkmal (technisch gesehen ist der Name `Afghanistan` ein Merkmal des Landes Afghanistan, aber es beinhaltet keine statistisch relevante Information). Wir setzen also den Index auf den Namen des Landes (wir gehen davon aus, dass der Name eindeutig ist, d.h. das es nicht zwei unterschiedliche Länder mit dem Namen Afghanistan gibt o.ä.)"
   ],
   "metadata": {}
  },
  {
   "cell_type": "code",
   "execution_count": null,
   "source": [
    "GM_1980.set_index('Country', inplace=True, drop=True)\r\n",
    "GM_1980.head()"
   ],
   "outputs": [],
   "metadata": {}
  },
  {
   "cell_type": "markdown",
   "source": [
    "Das sieht doch schon einmal besser aus! Das selbe Resultat hätten wir auch mit dem mächtigen `groupby`-Befehl erreicht. Er gruppiert den Datensatz nach den Werten eines Merkmals. Mit dem Befehl `get_group` kann denn jede gewünschte Gruppe extrahiert werden.  "
   ],
   "metadata": {}
  },
  {
   "cell_type": "code",
   "execution_count": null,
   "source": [
    "GM_1980_v1 = GM.groupby('Year').get_group(1980)\r\n",
    "GM_1980 = GM_1980_v1.drop('Year', axis=1).set_index('Country', drop=True)\r\n",
    "GM_1980.head()"
   ],
   "outputs": [],
   "metadata": {}
  },
  {
   "cell_type": "markdown",
   "source": [
    "Auf die gruppierten Variabeln können jetzt z.B. statistisch Merkmale angewendet werden. Wir führen dies am Beispiel des Mittelwerts vor. Wir gruppieren den Datensatz `GM_1980` nach dem Kontinent (`region`) und berechnen den Mittelwert in den Gruppen."
   ],
   "metadata": {}
  },
  {
   "cell_type": "code",
   "execution_count": null,
   "source": [
    "GM_1980.groupby('region').mean()"
   ],
   "outputs": [],
   "metadata": {}
  },
  {
   "cell_type": "markdown",
   "source": [
    "Mit dem Datensatz können nun erste Visualisierungen durchgeführt werden, wobei wir in der nächsten Lektion diese wichtige Werkzeug der Datenanalyse vertieft kennen lernen werden. Hier beginnen wir mit einem `Scatter-Plot`, den wir mit dem Paket `seaborn` erzeugen (dazu später mehr)."
   ],
   "metadata": {}
  },
  {
   "cell_type": "code",
   "execution_count": null,
   "source": [
    "import matplotlib.pyplot as plt\r\n",
    "import seaborn as sns\r\n",
    "\r\n",
    "sns.lmplot(\"fertility\", \"life\", hue=\"region\", data = GM_1980, fit_reg=False)\r\n",
    "plt.title(\"Fruchtbarkeit vs. Lebenserwartung\")\r\n",
    "plt.show()"
   ],
   "outputs": [],
   "metadata": {}
  },
  {
   "cell_type": "code",
   "execution_count": null,
   "source": [
    "df=GM.groupby('Country').mean()\r\n",
    "df.head(10)\r\n",
    "df=df.sort_values('child_mortality')\r\n",
    "df.head()"
   ],
   "outputs": [],
   "metadata": {}
  },
  {
   "cell_type": "code",
   "execution_count": null,
   "source": [
    "import matplotlib.pyplot as plt\r\n",
    "%matplotlib inline\r\n",
    "\r\n",
    "plt.figure(figsize=(24,5))\r\n",
    "plt.bar(df.index,df.iloc[:,4],label='child_mortality')\r\n",
    "plt.grid(True)\r\n",
    "plt.xlabel('country')\r\n",
    "plt.xticks(rotation='vertical')\r\n",
    "plt.ylabel('child mortality (%)')\r\n",
    "\r\n"
   ],
   "outputs": [],
   "metadata": {}
  },
  {
   "cell_type": "code",
   "execution_count": null,
   "source": [
    "df=GM.groupby('Year').mean()\r\n",
    "\r\n",
    "plt.figure(figsize=(10,10))\r\n",
    "ax = plt.subplot(311)\r\n",
    "plt.plot(df.iloc[:,0],'r.-',label='child mortality')\r\n",
    "ax.grid(True)\r\n",
    "ax.set_xlabel('Year')\r\n",
    "ax.set_ylabel('Fertility (%)')\r\n",
    "ax.legend()"
   ],
   "outputs": [],
   "metadata": {}
  },
  {
   "cell_type": "code",
   "execution_count": null,
   "source": [
    "plt.figure(figsize=(10,10))\r\n",
    "ax = plt.subplot(311)\r\n",
    "plt.plot(df.iloc[:,0],'r.-',label='Fertility')\r\n",
    "ax.grid(True)\r\n",
    "ax.set_xlabel('Year')\r\n",
    "ax.set_ylabel('Fertility (%)')\r\n",
    "ax.legend()\r\n",
    "\r\n",
    "ax = plt.subplot(312)\r\n",
    "plt.plot(df.iloc[:,1],'bx-',label='Life')\r\n",
    "ax.grid(True)\r\n",
    "ax.set_xlabel('Year')\r\n",
    "ax.set_ylabel('Life (%)')\r\n",
    "ax.legend()\r\n",
    "\r\n",
    "ax = plt.subplot(313)\r\n",
    "plt.plot(df.iloc[:,2],'bx-',label='population')\r\n",
    "ax.grid(True)\r\n",
    "ax.set_xlabel('Year')\r\n",
    "ax.set_ylabel('Life (%)')\r\n",
    "ax.legend()\r\n"
   ],
   "outputs": [],
   "metadata": {}
  },
  {
   "cell_type": "code",
   "execution_count": null,
   "source": [
    "df=GM.pivot(index='Country', columns='Year',values = 'life')\r\n",
    "df.head()\r\n"
   ],
   "outputs": [],
   "metadata": {}
  },
  {
   "cell_type": "code",
   "execution_count": null,
   "source": [
    "df.tail()"
   ],
   "outputs": [],
   "metadata": {}
  }
 ],
 "metadata": {
  "kernelspec": {
   "name": "python3",
   "display_name": "Python 3.8.8 64-bit ('base': conda)"
  },
  "language_info": {
   "codemirror_mode": {
    "name": "ipython",
    "version": 3
   },
   "file_extension": ".py",
   "mimetype": "text/x-python",
   "name": "python",
   "nbconvert_exporter": "python",
   "pygments_lexer": "ipython3",
   "version": "3.8.8"
  },
  "interpreter": {
   "hash": "1a5db59abe19c230969951fc4953c80ccb1ebdb096753dd160c9b1ae6cf866b9"
  }
 },
 "nbformat": 4,
 "nbformat_minor": 2
}