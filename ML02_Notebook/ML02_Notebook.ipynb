{
 "cells": [
  {
   "cell_type": "markdown",
   "metadata": {},
   "source": [
    "<img src=\"Bilder/ost_logo.png\" width=\"240\" height=\"240\" align=\"right\"/>\n",
    "<div style=\"text-align: left\"> <b> Machine Learning </b> <br> FS 2021 <br> <a href=\"mailto:klaus.frick@ost.ch\"> Klaus Frick </a> und <a href=\"mailto:christoph.wuersch@ost.ch\"> Christoph Würsch </a> </div>"
   ]
  },
  {
   "cell_type": "markdown",
   "metadata": {},
   "source": [
    "# Lektion 2\n",
    "\n",
    "Nach den ersten Gehversuchen mit Python und Pandas in Lektion 1, befassen wir uns in dieser Lektion wesentlich konkreter mit den Daten. Die **explorative Datenanalyse** ist stets der erste Schritt in einem erfolgreichen Machine Learning Projekt und hat das Ziel mit dem Daten vertraut zu werden. \n",
    "\n",
    "Wir studieren in diesem Notebook wiederum den *Titanic*-Datensatz. Sie können dieses Notebook parallel zur Vorlesung geöffnet halten und parallel zum Unterricht die einzelnen Schritte live nachverfolgen. "
   ]
  },
  {
   "cell_type": "markdown",
   "metadata": {},
   "source": [
    "## Einlesen der Daten und erste Betrachtungen\n",
    "\n",
    "Wie wir beriets am Schaubild der *Data Science Hierachy of Needs* gesehen haben, gehen wir in diesem Kurs immer davon aus, dass die Daten bereits **tidy** sind. Wer sich genauer mit diesen Konzept auseinandersetzen möchte, dem sei der Artikel\n",
    "\n",
    "H. Wickham *Tidy Data*, Journal of Statistical Software **59**(10), 2014\n",
    "\n",
    "empfohlen (auf Moodle). Bei uns werden die Daten daher stets in Form von .csv Datein vorliegen, die mehr oder weniger immer in der gewünschten Form strukturiert sind. Der *Titanic*-Datensatz macht da keine Ausnahme. "
   ]
  },
  {
   "cell_type": "code",
   "execution_count": null,
   "metadata": {},
   "outputs": [],
   "source": [
    "import numpy as np\n",
    "import pandas as pd\n",
    "\n",
    "titanic_data = pd.read_csv(\"Data/train.csv\") \n",
    "titanic_data.head()"
   ]
  },
  {
   "cell_type": "markdown",
   "metadata": {},
   "source": [
    "Wie bereits in Kapitel 1 diskutiert, ist es zunächst wichtig die groben *Metadaten* des Datensatzes abzuleiten, um die wichtigsten Fragen der EDA zu beantworten. Typischerweise betrifft dies zunächst die Struktur und die Granularität der Daten. Es handelt sich augenscheinlich um *tidy data*: Die Merkmale sind in den Spalten und die Beobachtungen in den Zeilen. Die Spalte `Name` ist im engsten Sinne kein Merkmal, sondern ein Index. Wir können dies berücksichtigen, indem wir den kanonischen Index durch den Namen des Passagiers ersetzen. "
   ]
  },
  {
   "cell_type": "code",
   "execution_count": null,
   "metadata": {},
   "outputs": [],
   "source": [
    "titanic_data = titanic_data.set_index(\"Name\") \n",
    "titanic_data.head()"
   ]
  },
  {
   "cell_type": "markdown",
   "metadata": {},
   "source": [
    "Nun betrachten wir die Grösse der Daten."
   ]
  },
  {
   "cell_type": "code",
   "execution_count": null,
   "metadata": {},
   "outputs": [],
   "source": [
    "titanic_data.shape"
   ]
  },
  {
   "cell_type": "markdown",
   "metadata": {},
   "source": [
    "Es sind also 891 stat. Einheiten (Personen) im Datensatz erfasst, wobei 11 Merkmale pro Person aufgelistet sind\n",
    "- `PassengerId` (Integer). Eindeutige ID des Passagiers\n",
    "- `Survived` (Boolena). Indikatorvariable, ob der Passagier gerettet wurde oder nicht. Kodiert mit 0/1 (0 … nicht gerettet, 1 … gerettet)\n",
    "- `Pclass` (Qualitativ, ordinal). Passagierklasse (1-3). \n",
    "- `Sex` (Qualitativ, nominal). Geschlecht des Passagierts (male/female)\n",
    "- `Age` (Quantitativ, diskret). Alter des Passagiers in Jahren (Integer).\n",
    "- `SibSp` (Quantitativ, diskret). Anzahl der Geschwister/Ehepartner an Bord (Integer).\n",
    "- `Parch` (Quantitativ, diskret). Anzahl der Elternteile/Kinder an Bord (Integer). \n",
    "- `Ticket` (Qualitativ, nominal). Ticketnummer\n",
    "- `Fare` (Quantitativ, stetig). Ticketpreis in Pfund, die der Passagier für die Überfahrt bezahlt hat (reelle Zahl). \n",
    "- `Cabin` (Qualitativ, nominal). Kabinennummer\n",
    "- `Embarked` (Qualitativ, nominal). Einstiegshafen (S ... Southhampton, C ... Cherbourg, Q ... Queenstown)\n",
    "\n",
    "Die Merkmale `PassengerId` sowie `Ticket` scheinen zunächst uninteressant zu sein und wir entfernen sie aus dem Datensatz. Dazu verwenden wir den Befehl `drop`."
   ]
  },
  {
   "cell_type": "code",
   "execution_count": null,
   "metadata": {},
   "outputs": [],
   "source": [
    "dropping = ['PassengerId', 'Ticket']\n",
    "titanic_data.drop(dropping, axis=1, inplace=True)\n",
    "titanic_data.head()"
   ]
  },
  {
   "cell_type": "markdown",
   "metadata": {},
   "source": [
    "Jetzt sieht der Datensatz sehr brauchbar aus. Das Merkmal `Cabin` scheint fehlende Werte zu besitzen, was durch das Symbol `NaN` (**N**ot **a** **N**umber) gekennzeichnet ist. \n",
    "\n",
    "Durch das setzen der Indizes auf die Namen der Passagiere hat man scheinbar eine Funktionalität verloren: die Möglichkeit der Auswahl der Zeilen mittels Zeilenanzahl:"
   ]
  },
  {
   "cell_type": "code",
   "execution_count": null,
   "metadata": {},
   "outputs": [],
   "source": [
    "titanic_data['Survived']"
   ]
  },
  {
   "cell_type": "markdown",
   "metadata": {},
   "source": [
    "Es besteht natürlich die Möglichkeit mittels dem Bedehl `.values` auf das zugrundeliegende Numpy-Array zuzugreifen, jedoch ist das wenig elegant. Pandas bietet zu diesem Zweck diverse Indizierungsmöglichkeiten. DIe Methode `.iloc` bietet rein Integer-basierte Indizierungen eines Dataframes (in allen Dimensionen):"
   ]
  },
  {
   "cell_type": "code",
   "execution_count": null,
   "metadata": {},
   "outputs": [],
   "source": [
    "# Auswahl der ersten Zeile\n",
    "titanic_data.iloc[0]"
   ]
  },
  {
   "cell_type": "code",
   "execution_count": null,
   "metadata": {},
   "outputs": [],
   "source": [
    "# Auswahl der fünften Zeile und des dritten Merkmals (Sex)\n",
    "titanic_data.iloc[4, 2]"
   ]
  },
  {
   "cell_type": "markdown",
   "metadata": {},
   "source": [
    "Mithilfe dieses Tools ist Integer-basiertes *slicing* des Datensatzes möglich"
   ]
  },
  {
   "cell_type": "code",
   "execution_count": null,
   "metadata": {},
   "outputs": [],
   "source": [
    "# wähle startend vom dritten Passagier jeden zweiten in der Liste und gib Merkmale fünf und sechs aus\n",
    "titanic_data.iloc[2:31:2, 4:6]"
   ]
  },
  {
   "cell_type": "markdown",
   "metadata": {},
   "source": [
    "Falls Auswahl basierend auf der Indizes bzw. der Merkmale gewünscht ist, so bietet sich der `.loc` Befehl an"
   ]
  },
  {
   "cell_type": "code",
   "execution_count": null,
   "metadata": {},
   "outputs": [],
   "source": [
    "# Auswahl einer Zeile basierend auf Namen\n",
    "titanic_data.loc['Heikkinen, Miss. Laina']"
   ]
  },
  {
   "cell_type": "code",
   "execution_count": null,
   "metadata": {},
   "outputs": [],
   "source": [
    "# Slicing mittels Bezeichnungen\n",
    "titanic_data.loc['Heikkinen, Miss. Laina':'Rice, Master. Eugene','Sex']"
   ]
  },
  {
   "cell_type": "markdown",
   "metadata": {},
   "source": [
    "## Visualisierung mit Python\n",
    "\n",
    "Bevor wir die konkreten Techniken der uni- und multivariaten EDA studieren, fassen wir zunächst die wichtigsten Bibliotheken zur Datenvisualisierung in Python zusammen. Wir befassen uns in diesem Kurs im Wesentlichen mit zwei Bibliotheken.\n",
    "\n",
    "### Matplotlib\n",
    "\n",
    "Dies ist die zentrale Bibliothek für wissenschaftliche Visualisierung von Daten. Es handelt sich um eine der älteren Python Pakete und ist vom Stil her der Visualisierung in MATLAB nachempfunden. Die Befehle von `Matplotlib` sind ziemlich low-level, d.h. es muss recht viel Code geschrieben werden, um anspruchsvolle Visualisierungen zu erzeugen. Folgender Code erzeugt einen Plot der Sinus-Funktion. Die Anleihen an MATLAB sind nicht zu übersehen."
   ]
  },
  {
   "cell_type": "code",
   "execution_count": null,
   "metadata": {},
   "outputs": [],
   "source": [
    "import matplotlib.pyplot as plt\n",
    "\n",
    "x = np.linspace(-np.pi/2, 3*np.pi, 200)\n",
    "y = np.sin(x)\n",
    "\n",
    "plt.plot(x, y, '-r')\n",
    "plt.grid()\n",
    "plt.title('Die Sinusfunktion')\n",
    "plt.xlabel('Winkel (rad)')\n",
    "plt.ylabel('Amplitude (V)')\n",
    "plt.show()"
   ]
  },
  {
   "cell_type": "markdown",
   "metadata": {},
   "source": [
    "Auch mehrere Plots können in ein Fenster geplottet werden. Über den Parameter `label` können Labels für eine Legende übergeben werden:"
   ]
  },
  {
   "cell_type": "code",
   "execution_count": null,
   "metadata": {},
   "outputs": [],
   "source": [
    "import matplotlib.pyplot as plt\n",
    "\n",
    "x = np.linspace(-np.pi/2, 3*np.pi, 200)\n",
    "y1 = np.sin(x)\n",
    "y2 = np.cos(x)\n",
    "\n",
    "plt.plot(x, y1, '-r', label=\"y=sin(x)\")\n",
    "plt.plot(x, y2, '--b', label=\"y=cos(x)\")\n",
    "\n",
    "plt.grid()\n",
    "plt.title('Die Winkelfunktionen')\n",
    "plt.xlabel('Winkel (rad)')\n",
    "plt.ylabel('Amplitude')\n",
    "plt.legend()\n",
    "plt.show()"
   ]
  },
  {
   "cell_type": "markdown",
   "metadata": {},
   "source": [
    "Die Pandas Bibliothek bietet Matplotlib-Befehle als Methoden für DataFrames und Series Objekte. In anderen Worten, ein Data Frame kann Plot-Befehle aufrufen und auf eigene Datenfelder (Spalten) als Input verweisen. Wir erzeugen einen DataFrame aus den Sinus-Daten."
   ]
  },
  {
   "cell_type": "code",
   "execution_count": null,
   "metadata": {},
   "outputs": [],
   "source": [
    "df = pd.DataFrame({'x': x, 'y': y1})\n",
    "df.plot('x', 'y')\n",
    "plt.show()"
   ]
  },
  {
   "cell_type": "markdown",
   "metadata": {},
   "source": [
    "### Seaborn\n",
    "\n",
    "Seaborn ist eine Bibliothek, die auf Matplotlib aufbaut und in wenigen Zeilen Code sehr ansprechende, publikationsfertige Grafiken erzeugen kann. Die Farbpaletten und der Plotstil von Seaborn wirken sehr modern; man sollte jedoch eine Ahnung von Matplotlib habe, wenn man Seaborn verwendet. Die Online Doku von Seaborn ist schlank und gut strukturiert\n",
    "\n",
    "https://seaborn.pydata.org/\n",
    "\n",
    "Die Doku verweist auf die Version 0.9.0 während auf den Klassenzimmer PCs die Version 0.7.1 installiert ist. Da Seaborn ein sehr neues Paket ist, sind die Versionssprünge sehr gross und mancher Befehl in der alten Version steht vielleicht nicht mehr zur Verfügung und umgekehrt. Hier muss man sich in Geduld üben: die Python und all seine Pakete sind **frei** und **open-source** und in einer rasanten Entwicklung begriffen - das darf man nicht vergessen! \n",
    "\n",
    "Zusammengefasst kann man sagen, dass Seaborn mehr vorgefertigte Plots anbietet, die man als Data Scientist benötigt während Matplotlib eine *general purpose* Plot-Bibliothek ist.  "
   ]
  },
  {
   "cell_type": "code",
   "execution_count": null,
   "metadata": {},
   "outputs": [],
   "source": [
    "import seaborn as sns\n",
    "sns.__version__"
   ]
  },
  {
   "cell_type": "markdown",
   "metadata": {},
   "source": [
    "Seaborn ist speziell auch in der Lage mit DataFrames umzugehen. "
   ]
  },
  {
   "cell_type": "code",
   "execution_count": null,
   "metadata": {},
   "outputs": [],
   "source": [
    "#Seaborn hat vorgefertigte Stile: Versuchen Sie einmal 'whitegrid' oder 'ticks'\n",
    "sns.set_style(\"dark\")\n",
    "\n",
    "# normale Matplotlib Befehle übernehmen den Seaborn Stil. \n",
    "df.plot('x', 'y')\n",
    "plt.show()"
   ]
  },
  {
   "cell_type": "markdown",
   "metadata": {},
   "source": [
    "Im Laufe dieser Vorlesung werden wir beide Ansätze -Matplotlib und Seaborn- verwenden und vergleichen. Es gibt noch eine handvoll weiterer Visualisierungs-Tools in Python. Erwähnen wollen wir hier noch *Bokeh*, ein Paket, das **interaktive** Visualisierungen für Web-Browser erstellt. \n",
    "\n",
    "http://bokeh.pydata.org/en/latest/\n",
    "\n",
    "Wir gehen hier nicht näher darauf ein, aber Interaktion ist ein wichtiger Aspekt jeder EDA. Diese Beispiele zeigt dies sehr schön\n",
    "\n",
    "https://demo.bokehplots.com/apps/movies\n",
    "https://demo.bokehplots.com/apps/selection_histogram"
   ]
  },
  {
   "cell_type": "markdown",
   "metadata": {},
   "source": [
    "## Univariate EDA\n",
    "\n",
    "Wir kehren nun zu unserem *Titanic*-Daten zurück und verfolgen die Inhalte der Vorlesung interaktiv mit. Wir beginnen mit **univariater** EDA, d.h. wir betrachten die einzelnen Merkmale für sich. Bei qualitativen Merkmalen bleibt nicht viel anderes übrige, als Häufgkeiten zur studieren. Dafür gibt es den Befehl `value_counts`."
   ]
  },
  {
   "cell_type": "code",
   "execution_count": null,
   "metadata": {},
   "outputs": [],
   "source": [
    "#frequency table \n",
    "print(titanic_data['Pclass'].value_counts(sort=False))\n",
    "\n",
    "# bar plot of passenger classes (absolute) \n",
    "titanic_data['Pclass'].value_counts(sort=False).plot(kind='bar') \n",
    "plt.grid() \n",
    "plt.title('Absolute Häufigkeiten der Passagierklassen')\n",
    "plt.show()"
   ]
  },
  {
   "cell_type": "markdown",
   "metadata": {},
   "source": [
    "Der Boole'sche Parameter `normalized` definiert, ob die Häufigkeiten relativ (`True`) oder absolut (`False` default) berechnet werden. "
   ]
  },
  {
   "cell_type": "code",
   "execution_count": null,
   "metadata": {},
   "outputs": [],
   "source": [
    "#frequency table (in %) \n",
    "100*titanic_data['Pclass'].value_counts(sort=False, normalize=True)\n",
    "\n",
    "# bar plot of passenger classes (absolute) \n",
    "freq = 100*titanic_data['Pclass'].value_counts(sort=False, normalize=True)\n",
    "freq.plot(kind='bar') \n",
    "plt.grid() \n",
    "plt.title('Relative Häufigkeiten der Passagierklassen')\n",
    "plt.show()"
   ]
  },
  {
   "cell_type": "markdown",
   "metadata": {},
   "source": [
    "Wir vergleichen hier auch die Lösungen von Matplotlib und Seaborn. Folgende Code-Zeile erzeugt ein Balkendiagram mit Seaborn. Wir werden weiter unten sehen, dass insbesondere die Kombination mit anderen Merkmalen sehr einfach mit Seaborn bewerkstelligt werden kann. "
   ]
  },
  {
   "cell_type": "code",
   "execution_count": null,
   "metadata": {},
   "outputs": [],
   "source": [
    "sns.countplot(x='Pclass', data = titanic_data)\n",
    "plt.show()"
   ]
  },
  {
   "cell_type": "markdown",
   "metadata": {},
   "source": [
    "Häufigkeiten werden oft auch mittels eines Pie-Charts dargestellt. Hier gilt wie immer *weniger ist mehr*: es sollte auf 3D Effekte und Perspektive verzichtet werden. "
   ]
  },
  {
   "cell_type": "code",
   "execution_count": null,
   "metadata": {
    "scrolled": true
   },
   "outputs": [],
   "source": [
    "#frequency table (%) \n",
    "100*titanic_data['Pclass'].value_counts(sort=False, normalize=True)\n",
    "\n",
    "# pie chart of passenger classes \n",
    "freq = 100*titanic_data['Pclass'].value_counts(sort=False, normalize=True) \n",
    "freq.plot(kind='pie', labels = ['1st', '2nd', '3rd'], figsize=(6, 6), autopct='%.2f') \n",
    "plt.title('Relative Häufigkeiten der Passagierklassen')\n",
    "plt.show()"
   ]
  },
  {
   "cell_type": "markdown",
   "metadata": {},
   "source": [
    "Für quantitative univariate Daten eignen sich vor allem Histogramme und Boxplots für die Visualisierung der Daten. Masszahlen können mit Pandas einfach über den `describe` Befehl erstellt werden. Jedoch können auch einzelne Werte berechnet werden.  "
   ]
  },
  {
   "cell_type": "code",
   "execution_count": null,
   "metadata": {},
   "outputs": [],
   "source": [
    "#Zusammenfassung\n",
    "titanic_data['Fare'].describe()"
   ]
  },
  {
   "cell_type": "code",
   "execution_count": null,
   "metadata": {},
   "outputs": [],
   "source": [
    "# 20% Quantil\n",
    "titanic_data['Fare'].quantile(0.2)"
   ]
  },
  {
   "cell_type": "markdown",
   "metadata": {},
   "source": [
    "Die Zusammenfassung von `describe` hängt vom Datentyp ab:"
   ]
  },
  {
   "cell_type": "code",
   "execution_count": null,
   "metadata": {},
   "outputs": [],
   "source": [
    "#Zusammenfassung nominaler Variablen (überladen)\n",
    "titanic_data['Sex'].describe()"
   ]
  },
  {
   "cell_type": "markdown",
   "metadata": {},
   "source": [
    "Hierzu eine wichtige Bemerkung: Das Merkmal `Survived` ist eine *Boole'sche* Variable, die ein binäres Merkmal (wahr/falsch) beschreibt. Die Variable wird mit den Integerwerten `0` und `1` kodiert, was zunächst willkürlich erscheint. Pandas wird diesen Datentyp auch zunächst als ganze Zahl behandeln und erlaubt somit auch Summation, Mittelwertbildung, etc. Dies macht Sinn, wenn man das Merkmal als Realisierung einer *Bernoulli* Zufallsvariablen betrachtet. Führt man z.B. den `mean` Befehl erhält man den Prozentsatz der Überlebenden. "
   ]
  },
  {
   "cell_type": "code",
   "execution_count": null,
   "metadata": {},
   "outputs": [],
   "source": [
    "titanic_data['Survived'].mean()"
   ]
  },
  {
   "cell_type": "markdown",
   "metadata": {},
   "source": [
    "Herkömmliche Histogramme können mit dem `hist` Befehl erstellt werden. Der Parameter `normed=True` erstellt ein relatives Histogramm, bei dem sich die Fläche zu eins aufsummiert. "
   ]
  },
  {
   "cell_type": "code",
   "execution_count": null,
   "metadata": {},
   "outputs": [],
   "source": [
    "# Histogramm des Alters\n",
    "titanic_data['Age'].hist(bins=20)#, normed=True) \n",
    "plt.title('Alter der Passagiere auf der Titanic') \n",
    "plt.xlabel('Alter') \n",
    "plt.ylabel('Anzahl')\n",
    "plt.show()"
   ]
  },
  {
   "cell_type": "markdown",
   "metadata": {},
   "source": [
    "Irreguläre Bins haben ihre Daseinsberechtigung, nur muss darauf geachtet werden, dass dann **nur relative** Häufigkeiten verwendet werden dürfen. Was passiert, wenn `density=False` gesetzt wird?"
   ]
  },
  {
   "cell_type": "code",
   "execution_count": null,
   "metadata": {},
   "outputs": [],
   "source": [
    "# Histogramm des Alters\n",
    "bins = [0, 10, 25, 40, 45, 60, 100] \n",
    "titanic_data['Age'].hist(bins=bins, density=False) \n",
    "plt.title('Alter der Passagiere auf der Titanic') \n",
    "plt.xlabel('Alter') \n",
    "plt.ylabel('rel. Anteil')\n",
    "plt.show()"
   ]
  },
  {
   "cell_type": "code",
   "execution_count": null,
   "metadata": {},
   "outputs": [],
   "source": [
    "# Histogramm des Alters\n",
    "bins = [0, 10, 25, 40, 45, 60, 100] \n",
    "titanic_data['Age'].hist(bins=bins, density=True) \n",
    "plt.title('Alter der Passagiere auf der Titanic') \n",
    "plt.xlabel('Alter') \n",
    "plt.ylabel('rel. Anteil')\n",
    "plt.show()"
   ]
  },
  {
   "cell_type": "markdown",
   "metadata": {},
   "source": [
    "Seaborn bietet natürlich auch eine Histogramm-Routine, die mit allerlei möglichen Erweiterungsmöglichkeiten aufwartet:\n",
    "- Rug-Plot (Teppich): Die Rohdaten werden auf der x-Achse als kleine Markierungen eingezeichnet. \n",
    "- KDE (kernel density estimator): Ein Dichteschätzer der zugrundeliegenden Verteilung wird eingezeichnet."
   ]
  },
  {
   "cell_type": "code",
   "execution_count": null,
   "metadata": {},
   "outputs": [],
   "source": [
    "sns.displot(x=titanic_data['Age'].dropna(), bins=20, kde=True, rug=True)\n",
    "plt.show()"
   ]
  },
  {
   "cell_type": "markdown",
   "metadata": {},
   "source": [
    "Besonders gelungen ist die Realisierung des Boxplots mit Seaborn v.a. wenn man den Plot mit einem `swarmplot` kombiniert. "
   ]
  },
  {
   "cell_type": "code",
   "execution_count": null,
   "metadata": {},
   "outputs": [],
   "source": [
    "sns.boxplot(x=\"Age\", data = titanic_data)\n",
    "sns.swarmplot(x=\"Age\", data = titanic_data, color=\"0.25\", size=4)\n",
    "plt.show()"
   ]
  },
  {
   "cell_type": "markdown",
   "metadata": {},
   "source": [
    "Generell ist zu bemerken, dass `swarmplot` oder `rugplot` spannende Techniken sind, da sie einen Blick auf die Rohdaten gewähren. Folgendes kleine Beispiel (mit synthetischen Daten) soll dies zeigen. Die Rohdaten sind klar in zwei Gruppen aufgeteilt (*cluster*), aber der Boxplot ist zu stark vereinfachend, sodass diese Information verloren geht. Der `swarmplot` zeigt die Gruppen jedoch sehr deutlich."
   ]
  },
  {
   "cell_type": "code",
   "execution_count": null,
   "metadata": {},
   "outputs": [],
   "source": [
    "x1 = np.random.normal(loc=-1, scale=0.2, size=150)\n",
    "x2 = np.random.normal(loc=0.1, scale=0.3, size=100)\n",
    "x = np.append(x1, x2, axis=0)\n",
    "\n",
    "sns.boxplot(x=x)\n",
    "sns.swarmplot(x=x, color=\"0.25\")\n",
    "plt.show()"
   ]
  },
  {
   "cell_type": "code",
   "execution_count": null,
   "metadata": {},
   "outputs": [],
   "source": [
    "sns.boxplot(x=x)\n",
    "sns.stripplot(x=x, jitter=True, color='k')\n",
    "plt.show()"
   ]
  },
  {
   "cell_type": "markdown",
   "metadata": {},
   "source": [
    "## Multivariate EDA\n",
    "\n",
    "Bei der multivariaten EDA gibt es zahlreiche Möglichkeiten, wie das Zusammenspiel einzelner Merkmale in einer Datenmatrix analysiert werden kann. Wir präsentieren hier eine Auswahl der wichtigsten Techniken und Methoden zur Darstellung von Daten. \n",
    "\n",
    "### Qualitative Merkmale\n",
    "\n",
    "Qualitative Merkmale dienen oft als Kriterien für Gruppierungen. Wir studieren hier alle möglichen Methoden der multivariaten EDA, bei der mindestens eine der Variablen qualitative ist. \n",
    "\n",
    "Die **Kreuztabelle** (oder **Kontingenztafel**) ist dabei der Klassiker unter den Methoden. Hier werden die Ausprägungen zweier qualitativer Merkmale *kreuzweise* kombiniert und die Anzahl der Messdaten mit der jeweiligen Merkmalskombination angegeben. "
   ]
  },
  {
   "cell_type": "code",
   "execution_count": null,
   "metadata": {},
   "outputs": [],
   "source": [
    "pd.crosstab(index = titanic_data['Pclass'], columns=titanic_data['Survived'], margins=True) "
   ]
  },
  {
   "cell_type": "markdown",
   "metadata": {},
   "source": [
    "Mit Seaborn können Kreuztabellen als **Heatmap** dargestellt werden. Das macht vor allem dann Sinn, wenn eines (oder beide) der Merkmale sehr viele (diskrete) Ausprägungen hat. "
   ]
  },
  {
   "cell_type": "code",
   "execution_count": null,
   "metadata": {},
   "outputs": [],
   "source": [
    "tab = pd.crosstab(index = titanic_data['Pclass'], columns=titanic_data['Age'])\n",
    "\n",
    "plt.figure(figsize=(16, 2))\n",
    "sns.heatmap(tab)\n",
    "plt.show()"
   ]
  },
  {
   "cell_type": "markdown",
   "metadata": {},
   "source": [
    "Statt der Anzahl der Elemente in den jeweiligen Kategorien, kann natürlich auch ein aggregierter Wert eines weiteren Merkmals angegeben werden. Man spricht dann von einer **Pivot-Tabelle**. Auch diese kann mit einer Heatmap dargestellt werden."
   ]
  },
  {
   "cell_type": "code",
   "execution_count": null,
   "metadata": {},
   "outputs": [],
   "source": [
    "titanic_data.pivot_table(index='Pclass', columns='Sex', values='Age', aggfunc='median')\n",
    "#titanic_data.pivot_table(index='Pclass', columns='Sex', values='Survived', aggfunc='mean')"
   ]
  },
  {
   "cell_type": "code",
   "execution_count": null,
   "metadata": {},
   "outputs": [],
   "source": [
    "plt.figure(figsize=(16, 2))\n",
    "sns.heatmap(titanic_data.pivot_table(index='Sex', columns='Age', values='Survived', aggfunc='mean'))\n",
    "plt.title('Rel. Anteil der Geretteten nach Geschlecht und Alter')\n",
    "plt.show()"
   ]
  },
  {
   "cell_type": "markdown",
   "metadata": {},
   "source": [
    "Ein weiteres sehr beliebtes Werkzeug, um quantitative Werte in verschiedenen Gruppen zu analysieren sind **gruppierte Boxplots**. In der grundlegenden Matplotlib Variante sieht dies so aus"
   ]
  },
  {
   "cell_type": "code",
   "execution_count": null,
   "metadata": {},
   "outputs": [],
   "source": [
    "titanic_data.boxplot(column='Fare', by='Pclass') \n",
    "plt.show()"
   ]
  },
  {
   "cell_type": "markdown",
   "metadata": {},
   "source": [
    "An dieser Stelle kommt aber die API von Seaborn zum Zug. Die Bibliothek hat eine eigene Sparte von Plots dieser Bauart auf Lager, die unter dem Familiennamen *Categorical plots* laufen. Hier einige Beispiele:"
   ]
  },
  {
   "cell_type": "code",
   "execution_count": null,
   "metadata": {},
   "outputs": [],
   "source": [
    "f, ax = plt.subplots(2,2)\n",
    "f.set_size_inches(15, 15)\n",
    "\n",
    "sns.boxplot(x=\"Pclass\", y=\"Age\", data=titanic_data, palette=\"Set3\", ax = ax[0,0])\n",
    "sns.stripplot(x=\"Pclass\", y=\"Age\", data=titanic_data, palette=\"Set3\", jitter = True, ax = ax[0,1])\n",
    "\n",
    "sns.boxplot(x=\"Pclass\", y=\"Age\", hue = \"Sex\", data=titanic_data,  ax = ax[1,0])\n",
    "sns.stripplot(x=\"Pclass\", y=\"Age\", hue = \"Survived\", data=titanic_data, jitter = True, ax = ax[1,1])\n",
    "\n",
    "plt.show()"
   ]
  },
  {
   "cell_type": "markdown",
   "metadata": {},
   "source": [
    "## Quantitative Daten\n",
    "\n",
    "Werden vornehmlich quantitative Merkmale verglichen, bieten sich meist **Streudiagramme** (**scatter-plots**) an. Dies entspricht dem Standardplot in Matplotlib.  "
   ]
  },
  {
   "cell_type": "code",
   "execution_count": null,
   "metadata": {},
   "outputs": [],
   "source": [
    "titanic_data.plot(x='Fare', y='Age', kind='scatter') \n",
    "plt.show()"
   ]
  },
  {
   "cell_type": "markdown",
   "metadata": {},
   "source": [
    "Qualitative Merkmale können über Farben kodiert werden und weitere quantitative Merkmale über die Grösse der verwendeten Symbole. Dies geht mit dem Seaborn Paket sehr leicht. Ab Version 0.9.0 gibt es eigene `scatterplot` Funktionen. Man kann aber auch die ältere Methode `lmplot` verwenden oder das Tool `joinplot`, das auch über eine Fülle von Parametern verfügt. "
   ]
  },
  {
   "cell_type": "code",
   "execution_count": null,
   "metadata": {},
   "outputs": [],
   "source": [
    "import seaborn as sns \n",
    "sns.lmplot(x='Fare', y='Age', data = titanic_data, hue='Pclass', fit_reg=False)\n",
    "plt.show()"
   ]
  },
  {
   "cell_type": "markdown",
   "metadata": {},
   "source": [
    "Seaborn ermöglicht es, mittels Parameter-Dictionaries (`???_kws` ... keywords) die Ästhetik eines Plots zu verändern. Wir geben hier ein Beispiel, wie die Transparenz der Plot-Symbole verändert werden kann."
   ]
  },
  {
   "cell_type": "code",
   "execution_count": null,
   "metadata": {},
   "outputs": [],
   "source": [
    "sns.jointplot(x='Fare', y='Age', data = titanic_data, kind='kde')\n",
    "#ns.jointplot('Fare', 'Age', data = titanic_data, kind='hex')\n",
    "\n",
    "#sns.jointplot('Fare', 'Age', data = titanic_data, \n",
    "#              joint_kws={'alpha': 0.1, 'color': 'darkred'}, # Parameter für den Joint Plot (Scatterplot)\n",
    "#              marginal_kws={'bins': 50, 'color': 'darkred'}) # Parameter für die Histogramme an den Axen (marginal = Randverteilung)\n",
    "\n",
    "#sns.jointplot('Fare', 'Age', data = titanic_data, joint_kws={'alpha':0.1}).plot_joint(sns.kdeplot, zorder=0, n_levels=6)\n",
    "plt.show()"
   ]
  },
  {
   "cell_type": "markdown",
   "metadata": {},
   "source": [
    "Um die Interpretierbarkeit der Darstellung zu erhöhen, lernen wir in der nächsten Lektion *Daten Transformationen* kennen. Wir machen hier bereits das erste Beispiel und transformieren die Variable `Fare` mittels des Logarithmus. Was fällt auf?"
   ]
  },
  {
   "cell_type": "code",
   "execution_count": null,
   "metadata": {},
   "outputs": [],
   "source": [
    "titanic_data['log_fare'] = np.log10(titanic_data['Fare']+1)\n",
    "sns.jointplot(x='log_fare', y='Age', data = titanic_data, kind='kde')\n"
   ]
  },
  {
   "cell_type": "markdown",
   "metadata": {},
   "source": [
    "## Fehlende Werte  (*missing values*)\n",
    "\n",
    "In den meisten realen Datensätzen ist man mit der Situation konfrontiert, dass Werte in einer Datenmatrix fehlen. Das kann viele Gründe haben; beispielsweise kann ein Sensor ausfallen, bei der Signalübertragung können fehler auftreten und menschliches Versagen beim Messprozess ist generell nie auszuschliessen. \n",
    "\n",
    "Im *Titanic*-Datensatz sehen wir fehlende Werte beispielsweise in der Spalte `Cabin` mit der Kabinennummer. In Python wird der Platzhalter `NaN` verwendet. Mit dem Befahl `isnull()` können die Positionen der fehlenden Werte dann bestimmt werden. Mittels Aufsummieren können eine Statistik der fehlenden Werte über die Merkmale gemacht werden."
   ]
  },
  {
   "cell_type": "code",
   "execution_count": null,
   "metadata": {
    "jupyter": {
     "outputs_hidden": true
    }
   },
   "outputs": [],
   "source": [
    "titanic_data.isnull().sum()"
   ]
  },
  {
   "cell_type": "markdown",
   "metadata": {},
   "source": [
    "Wir sehen also. dass ein `Age` und `Cabin` viele Fehlende Werte aufweisen. Wie fehlende Werte ersetzt werden können und wann dies erlaubt ist, erfahren wir in der nächsten Lektion. Interessant ist stets, ob die fehlenden Werte in einer systematischen Art auftauchen, oder zufällig. Dabei kommt eines das **logische Indizieren** in Python/Pandas sehr entgegen:"
   ]
  },
  {
   "cell_type": "code",
   "execution_count": null,
   "metadata": {
    "jupyter": {
     "outputs_hidden": true
    }
   },
   "outputs": [],
   "source": [
    "titanic_data_1 = titanic_data[titanic_data.Cabin.isnull()]\n",
    "print(titanic_data_1['Pclass'].value_counts(normalize=True))\n",
    "print(titanic_data['Pclass'].value_counts(normalize=True))"
   ]
  },
  {
   "cell_type": "code",
   "execution_count": null,
   "metadata": {},
   "outputs": [],
   "source": []
  }
 ],
 "metadata": {
  "interpreter": {
   "hash": "8f3534bf38f6eb11e1d3b789516db8aa7f2ed37cd4c44f5fa27561125344489f"
  },
  "kernelspec": {
   "display_name": "Python 3.8.8 64-bit ('base': conda)",
   "name": "python3"
  },
  "language_info": {
   "codemirror_mode": {
    "name": "ipython",
    "version": 3
   },
   "file_extension": ".py",
   "mimetype": "text/x-python",
   "name": "python",
   "nbconvert_exporter": "python",
   "pygments_lexer": "ipython3",
   "version": "3.8.8"
  },
  "nbTranslate": {
   "displayLangs": [
    "ger",
    "en"
   ],
   "hotkey": "alt-t",
   "langInMainMenu": true,
   "sourceLang": "en",
   "targetLang": "ger",
   "useGoogleTranslate": true
  },
  "varInspector": {
   "cols": {
    "lenName": 16,
    "lenType": 16,
    "lenVar": 40
   },
   "kernels_config": {
    "python": {
     "delete_cmd_postfix": "",
     "delete_cmd_prefix": "del ",
     "library": "var_list.py",
     "varRefreshCmd": "print(var_dic_list())"
    },
    "r": {
     "delete_cmd_postfix": ") ",
     "delete_cmd_prefix": "rm(",
     "library": "var_list.r",
     "varRefreshCmd": "cat(var_dic_list()) "
    }
   },
   "types_to_exclude": [
    "module",
    "function",
    "builtin_function_or_method",
    "instance",
    "_Feature"
   ],
   "window_display": false
  }
 },
 "nbformat": 4,
 "nbformat_minor": 4
}
