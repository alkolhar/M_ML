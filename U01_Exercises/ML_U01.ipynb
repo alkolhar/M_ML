{
 "cells": [
  {
   "cell_type": "markdown",
   "source": [
    "# Aufgabenserie 1: Machine Learning Landschaft\r\n"
   ],
   "metadata": {}
  },
  {
   "cell_type": "markdown",
   "source": [
    "## Aufgabe 1\r\n",
    "Lesen Sie im Kapitel 1 (Seite 3 bis 31) des Buches _Praxiseinstieg Machine Learning mit Scikit-Learn und Tensorflow_ und beantworten Sie anschliessend die Fragen der Aufgaben.<br>\r\n",
    "- **Fassen Sie in eigenen Worten zusammen, was das No-Free-Lunch Theorem besagt**<br>\r\n",
    "\r\n",
    "\r\n",
    "- **Was ist der Unterschied zwischen Training und Validierung**<br>\r\n",
    "Der Training-Datensatz ist der allgemeine Begriff für die Stichproben, die zur Erstellung des Modells verwendet werden, während der Validierungs-Datensatz dazu dient, die Leistung zu überprüfen"
   ],
   "metadata": {}
  },
  {
   "cell_type": "markdown",
   "source": [
    "## Aufgabe 2\r\n",
    "- **Wie würden Sie _Machine Learning_ definieren?**"
   ],
   "metadata": {}
  },
  {
   "cell_type": "markdown",
   "source": [
    "## Aufgabe 3\r\n",
    "Im Netz finden sich zahlreiche Quellen von Datensätzen, um Methoden des Machine Learning auszutesten und gegen Benchmark-Resultate zu vergleichen. Eine gut aufgeräumte Quelle stellt das _Center for Machine Learning and Intelligent Systems_ der University of California in Irvince (UCI) zur Verfügung.<br>\r\n",
    "Wir betrachten in dieser Übungen drei Datensätze:<br>\r\n",
    "- (a) Abalone\r\n",
    "- (b) WineQuality\r\n",
    "- (c) Seeds\r\n",
    "\r\n",
    "Da das Dateiformat _.data_ über keine Headerdaten verfügt, werden diese beim Laden als Argument übergeben. Die genaue Beschreibung des Datensatzes ist jeweils in der _.names_-Datei vorhanden."
   ],
   "metadata": {}
  },
  {
   "cell_type": "code",
   "execution_count": 26,
   "source": [
    "import pandas as pd\r\n",
    "abaloneData = pd.read_csv(\"data/abalone.data\", names=[\"Sex\", \"Length\", \"Diameter\", \"Height\", \"Whole weight\", \"Shucked weight\", \"Viscera weight\", \"Shell weight\", \"Rings\"]);\r\n",
    "wineData = pd.read_csv(\"data/wine.data\", names=[\"Class\", \"Alcohol\", \"Malic acid\", \"Ash\", \"Alcalinity of ash\", \"Magnesium\", \"Total phenols\", \"Flavanoids\", \"Nonflavanoid phenols\", \"Proanthocyanins\", \"Color intensity\", \"Hue\", \"OD280/OD315 of diluted wines\", \"Proline\"]);\r\n",
    "seedData = pd.read_csv(\"data/seeds_dataset.txt\", sep='\\t', names=[\"area\", \"perimeter\", \"compactness\", \"length of kernel\", \"width of kernel\", \"asymmetry coefficient\", \"length of kernel groove\", \"variety\"])\r\n",
    "\r\n",
    "seedData.head()"
   ],
   "outputs": [
    {
     "output_type": "execute_result",
     "data": {
      "text/html": [
       "<div>\n",
       "<style scoped>\n",
       "    .dataframe tbody tr th:only-of-type {\n",
       "        vertical-align: middle;\n",
       "    }\n",
       "\n",
       "    .dataframe tbody tr th {\n",
       "        vertical-align: top;\n",
       "    }\n",
       "\n",
       "    .dataframe thead th {\n",
       "        text-align: right;\n",
       "    }\n",
       "</style>\n",
       "<table border=\"1\" class=\"dataframe\">\n",
       "  <thead>\n",
       "    <tr style=\"text-align: right;\">\n",
       "      <th></th>\n",
       "      <th>area</th>\n",
       "      <th>perimeter</th>\n",
       "      <th>compactness</th>\n",
       "      <th>length of kernel</th>\n",
       "      <th>width of kernel</th>\n",
       "      <th>asymmetry coefficient</th>\n",
       "      <th>length of kernel groove</th>\n",
       "      <th>variety</th>\n",
       "    </tr>\n",
       "  </thead>\n",
       "  <tbody>\n",
       "    <tr>\n",
       "      <th>0</th>\n",
       "      <td>15.26</td>\n",
       "      <td>14.84</td>\n",
       "      <td>0.8710</td>\n",
       "      <td>5.763</td>\n",
       "      <td>3.312</td>\n",
       "      <td>2.221</td>\n",
       "      <td>5.220</td>\n",
       "      <td>1.0</td>\n",
       "    </tr>\n",
       "    <tr>\n",
       "      <th>1</th>\n",
       "      <td>14.88</td>\n",
       "      <td>14.57</td>\n",
       "      <td>0.8811</td>\n",
       "      <td>5.554</td>\n",
       "      <td>3.333</td>\n",
       "      <td>1.018</td>\n",
       "      <td>4.956</td>\n",
       "      <td>1.0</td>\n",
       "    </tr>\n",
       "    <tr>\n",
       "      <th>2</th>\n",
       "      <td>14.29</td>\n",
       "      <td>14.09</td>\n",
       "      <td>0.9050</td>\n",
       "      <td>5.291</td>\n",
       "      <td>3.337</td>\n",
       "      <td>2.699</td>\n",
       "      <td>4.825</td>\n",
       "      <td>1.0</td>\n",
       "    </tr>\n",
       "    <tr>\n",
       "      <th>3</th>\n",
       "      <td>13.84</td>\n",
       "      <td>13.94</td>\n",
       "      <td>0.8955</td>\n",
       "      <td>5.324</td>\n",
       "      <td>3.379</td>\n",
       "      <td>2.259</td>\n",
       "      <td>4.805</td>\n",
       "      <td>1.0</td>\n",
       "    </tr>\n",
       "    <tr>\n",
       "      <th>4</th>\n",
       "      <td>16.14</td>\n",
       "      <td>14.99</td>\n",
       "      <td>0.9034</td>\n",
       "      <td>5.658</td>\n",
       "      <td>3.562</td>\n",
       "      <td>1.355</td>\n",
       "      <td>5.175</td>\n",
       "      <td>1.0</td>\n",
       "    </tr>\n",
       "  </tbody>\n",
       "</table>\n",
       "</div>"
      ],
      "text/plain": [
       "    area  perimeter  compactness  length of kernel  width of kernel  \\\n",
       "0  15.26      14.84       0.8710             5.763            3.312   \n",
       "1  14.88      14.57       0.8811             5.554            3.333   \n",
       "2  14.29      14.09       0.9050             5.291            3.337   \n",
       "3  13.84      13.94       0.8955             5.324            3.379   \n",
       "4  16.14      14.99       0.9034             5.658            3.562   \n",
       "\n",
       "   asymmetry coefficient  length of kernel groove  variety  \n",
       "0                  2.221                    5.220      1.0  \n",
       "1                  1.018                    4.956      1.0  \n",
       "2                  2.699                    4.825      1.0  \n",
       "3                  2.259                    4.805      1.0  \n",
       "4                  1.355                    5.175      1.0  "
      ]
     },
     "metadata": {},
     "execution_count": 26
    }
   ],
   "metadata": {}
  }
 ],
 "metadata": {
  "orig_nbformat": 4,
  "language_info": {
   "name": "python",
   "version": "3.8.8",
   "mimetype": "text/x-python",
   "codemirror_mode": {
    "name": "ipython",
    "version": 3
   },
   "pygments_lexer": "ipython3",
   "nbconvert_exporter": "python",
   "file_extension": ".py"
  },
  "kernelspec": {
   "name": "python3",
   "display_name": "Python 3.8.8 64-bit ('base': conda)"
  },
  "interpreter": {
   "hash": "1a5db59abe19c230969951fc4953c80ccb1ebdb096753dd160c9b1ae6cf866b9"
  }
 },
 "nbformat": 4,
 "nbformat_minor": 2
}