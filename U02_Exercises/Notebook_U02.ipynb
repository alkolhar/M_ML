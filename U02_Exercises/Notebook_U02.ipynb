{
 "cells": [
  {
   "cell_type": "markdown",
   "metadata": {},
   "source": [
    "# Serie 2\n",
    "## Aufgabe 2\n",
    "Laden Sie den Datensatz der Olympia-Athleten von London 2012 namens AHW_1.csv in ein Jupyter-Notebook und erstellen Sie daraus einen pandas Datenframe."
   ]
  },
  {
   "cell_type": "code",
   "execution_count": null,
   "metadata": {},
   "outputs": [],
   "source": [
    "import pandas as pd\n",
    "import matplotlib.pyplot as plt\n",
    "import seaborn as sns\n",
    "\n",
    "df = pd.read_csv('ahw_1.csv')\n",
    "df.shape\n",
    "df.head()"
   ]
  },
  {
   "cell_type": "markdown",
   "metadata": {},
   "source": [
    "### Teilaufgabe b)\n",
    "Wie viele fehlende Daten gibt es insgesamt?"
   ]
  },
  {
   "cell_type": "code",
   "execution_count": null,
   "metadata": {},
   "outputs": [],
   "source": [
    "overallMissing = df.isnull().sum()\n",
    "overallMissing"
   ]
  },
  {
   "cell_type": "markdown",
   "metadata": {},
   "source": [
    "### Teilaufgabe c)\n",
    "Wie viele fehlende Daten gibt es bei den Frauen resp. bei den Männern? Ist der Unterschied signifikant?"
   ]
  },
  {
   "cell_type": "code",
   "execution_count": null,
   "metadata": {},
   "outputs": [],
   "source": [
    "mMissingVal = df[df['Sex'] == 'M'].isnull().sum()\n",
    "fMissingVal = df[df['Sex'] == 'F'].isnull().sum()\n",
    "\n",
    "mMissingVal"
   ]
  },
  {
   "cell_type": "code",
   "execution_count": null,
   "metadata": {},
   "outputs": [],
   "source": [
    "fMissingVal"
   ]
  },
  {
   "cell_type": "markdown",
   "metadata": {},
   "source": [
    "### Teilaufgabe d)\n",
    "Berechnen Sie zusammenfassende Statistiken für jedes Attribut und stellen Sie die Attributverteilungen graphisch dar.\n"
   ]
  },
  {
   "cell_type": "code",
   "execution_count": null,
   "metadata": {},
   "outputs": [],
   "source": [
    "# Neue dataframes erstellen\n",
    "overallMissing = pd.DataFrame(data=overallMissing, columns=['Overall Missing'])\n",
    "fMissingVal = pd.DataFrame(data=fMissingVal, columns=['Female Missing'])\n",
    "mMissingVal = pd.DataFrame(data=mMissingVal, columns=['Male Missing'])\n",
    "\n",
    "# In einen Datenframe zusammenführen\n",
    "missing = pd.concat([overallMissing, fMissingVal, mMissingVal], axis=1)\n",
    "missing"
   ]
  },
  {
   "cell_type": "markdown",
   "metadata": {},
   "source": [
    "### Teilaufgabe d)\n",
    "Visualisieren Sie die Potentialdifferenz über die Streudiagramme"
   ]
  },
  {
   "cell_type": "code",
   "execution_count": null,
   "metadata": {},
   "outputs": [],
   "source": [
    "plt.figure(figsize=(12,12))\n",
    "sns.pairplot(df.dropna(), hue='Sex')\n",
    "plt.savefig('LondonOlympics_Pairplot.png', dpi=600)\n"
   ]
  }
 ],
 "metadata": {
  "interpreter": {
   "hash": "8f3534bf38f6eb11e1d3b789516db8aa7f2ed37cd4c44f5fa27561125344489f"
  },
  "kernelspec": {
   "display_name": "Python 3.8.8 64-bit ('base': conda)",
   "name": "python3"
  },
  "language_info": {
   "codemirror_mode": {
    "name": "ipython",
    "version": 3
   },
   "file_extension": ".py",
   "mimetype": "text/x-python",
   "name": "python",
   "nbconvert_exporter": "python",
   "pygments_lexer": "ipython3",
   "version": "3.8.8"
  },
  "orig_nbformat": 4
 },
 "nbformat": 4,
 "nbformat_minor": 2
}
