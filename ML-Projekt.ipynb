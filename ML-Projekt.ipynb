{
 "cells": [
  {
   "cell_type": "markdown",
   "metadata": {},
   "source": [
    "# Machine Learning Projekt\n",
    "Herbstsemester 2021\n",
    "Noé Schreiber und Alex Koller\n",
    "\n",
    "## Inhaltsverzeichnis\n",
    "1. [Spannende Datensets](#datasets)\n",
    "\n",
    "## Spannende Datensets <a name=\"datasets\"></a>\n",
    "\n",
    "* [Fish and Overfishing](https://ourworldindata.org/fish-and-overfishing)\n",
    "* [Heart failure prediction](https://www.kaggle.com/fedesoriano/heart-failure-prediction)\n",
    "* [Air Pollution](https://www.kaggle.com/pavan9065/air-pollution)\n",
    "* [Electricity Production by Source](https://www.kaggle.com/prateekmaj21/electricity-production-by-source-world)\n",
    "* [Climate Change vs Global Warming](https://www.kaggle.com/kkhandekar/climate-change-vs-global-warming)\n",
    "\n",
    "## "
   ]
  }
 ],
 "metadata": {
  "interpreter": {
   "hash": "1a5db59abe19c230969951fc4953c80ccb1ebdb096753dd160c9b1ae6cf866b9"
  },
  "kernelspec": {
   "display_name": "Python 3.8.8 64-bit ('base': conda)",
   "name": "python3"
  },
  "language_info": {
   "name": "python",
   "version": "3.8.8"
  },
  "orig_nbformat": 4
 },
 "nbformat": 4,
 "nbformat_minor": 2
}
